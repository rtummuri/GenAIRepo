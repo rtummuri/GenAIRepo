{
 "cells": [
  {
   "cell_type": "code",
   "execution_count": 2,
   "id": "2576f22b",
   "metadata": {},
   "outputs": [],
   "source": [
    "#import API Keys\n",
    "%run ../../../conf/apikey.ipynb"
   ]
  },
  {
   "cell_type": "code",
   "execution_count": 30,
   "id": "abfdfa76",
   "metadata": {},
   "outputs": [],
   "source": [
    "from langchain_openai import ChatOpenAI\n",
    "from typing import List, Dict\n",
    "from langchain_core.tools import tool"
   ]
  },
  {
   "cell_type": "code",
   "execution_count": 36,
   "id": "e825f7d0",
   "metadata": {},
   "outputs": [],
   "source": [
    "# Tool 1: Fetch Weather\n",
    "@tool\n",
    "def fetch_weather(city: str, date: str) -> str:\n",
    "    ''' returns live weather for a given city and date'''\n",
    "    return f\"The weather in {city} on {date} is sunny with a high of 75°F.\""
   ]
  },
  {
   "cell_type": "code",
   "execution_count": 37,
   "id": "c787edd6",
   "metadata": {},
   "outputs": [],
   "source": [
    "# Tool 2: Perform Calculation\n",
    "@tool\n",
    "def calculate(operation: str, num1: float, num2: float) -> str:\n",
    "    '''arithmetic operations'''\n",
    "    if operation == \"add\":\n",
    "        return f\"The result of adding {num1} and {num2} is {num1 + num2}.\"\n",
    "    elif operation == \"subtract\":\n",
    "        return f\"The result of subtracting {num2} from {num1} is {num1 - num2}.\"\n",
    "    elif operation == \"multiply\":\n",
    "        return f\"The result of multiplying {num1} and {num2} is {num1 * num2}.\"\n",
    "    elif operation == \"divide\" and num2 != 0:\n",
    "        return f\"The result of dividing {num1} by {num2} is {num1 / num2}.\"\n",
    "    else:\n",
    "        return \"Invalid operation or division by zero.\""
   ]
  },
  {
   "cell_type": "code",
   "execution_count": 38,
   "id": "42302541",
   "metadata": {},
   "outputs": [],
   "source": [
    "# Tool 3: Time Zone Information\n",
    "@tool\n",
    "def get_time_zone(city: str) -> str:\n",
    "    '''return timezone for a given city'''\n",
    "    time_zones = {\n",
    "        \"New York\": \"Eastern Time (ET)\",\n",
    "        \"San Francisco\": \"Pacific Time (PT)\",\n",
    "        \"London\": \"Greenwich Mean Time (GMT)\"\n",
    "    }\n",
    "    return time_zones.get(city, \"Time zone information not available for this city.\")\n"
   ]
  },
  {
   "cell_type": "code",
   "execution_count": 44,
   "id": "8f777219",
   "metadata": {},
   "outputs": [
    {
     "name": "stdout",
     "output_type": "stream",
     "text": [
      "content='' additional_kwargs={'tool_calls': [{'id': 'call_a8CTqxxeChB1APxqEvy96IM5', 'function': {'arguments': '{\"city\":\"San Francisco\"}', 'name': 'get_time_zone'}, 'type': 'function'}], 'refusal': None} response_metadata={'token_usage': {'completion_tokens': 16, 'prompt_tokens': 113, 'total_tokens': 129, 'completion_tokens_details': {'accepted_prediction_tokens': 0, 'audio_tokens': 0, 'reasoning_tokens': 0, 'rejected_prediction_tokens': 0}, 'prompt_tokens_details': {'audio_tokens': 0, 'cached_tokens': 0}}, 'model_name': 'gpt-3.5-turbo-0125', 'system_fingerprint': None, 'id': 'chatcmpl-BzEEAlUnmAycNW8EA7w2xuGghG9OI', 'service_tier': 'default', 'finish_reason': 'tool_calls', 'logprobs': None} id='run--bfb9c4cb-81e2-439a-9065-14b6e031f300-0' tool_calls=[{'name': 'get_time_zone', 'args': {'city': 'San Francisco'}, 'id': 'call_a8CTqxxeChB1APxqEvy96IM5', 'type': 'tool_call'}] usage_metadata={'input_tokens': 113, 'output_tokens': 16, 'total_tokens': 129, 'input_token_details': {'audio': 0, 'cache_read': 0}, 'output_token_details': {'audio': 0, 'reasoning': 0}}\n"
     ]
    }
   ],
   "source": [
    "#model\n",
    "llm = ChatOpenAI()\n",
    "\n",
    "tools = [fetch_weather, calculate, get_time_zone]\n",
    "# Bind multiple tools\n",
    "chat_llm = llm.bind_tools([fetch_weather, calculate, get_time_zone])\n",
    "#tool call\n",
    "tool_call = chat_llm.invoke(\"What is the weather in San Francisco in Forenheit\")\n",
    "print(tool_call)"
   ]
  },
  {
   "cell_type": "code",
   "execution_count": null,
   "id": "f8ce00bd",
   "metadata": {},
   "outputs": [],
   "source": [
    "#initializing agent\n",
    "#bind tool\n",
    "#function/tool calling\n",
    "from langchain.agents import Tool, initialize_agent, AgentType\n",
    "# Step 3: Initialize Agent with tools\n",
    "agent = initialize_agent(\n",
    "    tools=tools,\n",
    "    llm=llm,\n",
    "    agent=AgentType.OPENAI_FUNCTIONS,\n",
    "    verbose=True\n",
    ")"
   ]
  },
  {
   "cell_type": "code",
   "execution_count": 41,
   "id": "7892847b",
   "metadata": {},
   "outputs": [
    {
     "name": "stdout",
     "output_type": "stream",
     "text": [
      "\n",
      "\n",
      "\u001b[1m> Entering new AgentExecutor chain...\u001b[0m\n",
      "\u001b[32;1m\u001b[1;3m\n",
      "Invoking: `fetch_weather` with `{'city': 'San Francisco', 'date': 'today'}`\n",
      "\n",
      "\n",
      "\u001b[0m\u001b[36;1m\u001b[1;3mThe weather in San Francisco on today is sunny with a high of 75°F.\u001b[0m\u001b[32;1m\u001b[1;3mThe weather in San Francisco today is sunny with a high of 75°F.\u001b[0m\n",
      "\n",
      "\u001b[1m> Finished chain.\u001b[0m\n",
      "Agent result: The weather in San Francisco today is sunny with a high of 75°F.\n"
     ]
    }
   ],
   "source": [
    "# Step 4: Run the agent\n",
    "response = agent.run(\"What is the weather in San Francisco in Forenheit\")\n",
    "print(\"Agent result:\", response)"
   ]
  }
 ],
 "metadata": {
  "kernelspec": {
   "display_name": ".venv",
   "language": "python",
   "name": "python3"
  },
  "language_info": {
   "codemirror_mode": {
    "name": "ipython",
    "version": 3
   },
   "file_extension": ".py",
   "mimetype": "text/x-python",
   "name": "python",
   "nbconvert_exporter": "python",
   "pygments_lexer": "ipython3",
   "version": "3.12.9"
  }
 },
 "nbformat": 4,
 "nbformat_minor": 5
}
